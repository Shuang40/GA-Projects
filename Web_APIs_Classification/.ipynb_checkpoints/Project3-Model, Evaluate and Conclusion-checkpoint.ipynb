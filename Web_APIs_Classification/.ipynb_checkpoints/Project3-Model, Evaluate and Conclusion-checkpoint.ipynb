{
 "cells": [
  {
   "cell_type": "markdown",
   "metadata": {},
   "source": [
    "<img src=\"http://imgur.com/1ZcRyrc.png\" style=\"float: left; margin: 20px; height: 55px\">\n",
    "\n",
    "# Project 3 - Web APIs & Classification"
   ]
  },
  {
   "cell_type": "markdown",
   "metadata": {},
   "source": [
    "## Problem Statement\n",
    "\n",
    "To help counselor, schools and even parents to identify individual who potentially could hold suicidal thoughts. By analysing xisting posts in Reddit, we want to use multiple prediction models for identifying the best model to apply on text written by individual that could predict if this individual holds any suicidal thought, allowing immediate intervention and render support to these group of individuals.\n",
    "\n",
    "Beside aiming for accuracy of our prediction, we also want to target at the individual who falls under the depresssion category but somehow our prediction shows that this individal is in the suicidual category.\n",
    "\n",
    "Using Natural Language Processing, success is evaluated by the model has the highest score that combine both accuracy and recall."
   ]
  },
  {
   "cell_type": "markdown",
   "metadata": {},
   "source": [
    "## Executive Summary\n",
    "\n",
    "Using Reddit's API, we will be scraping through the subreddits of 2 posts namely Depression and SuicideWatch.\\\n",
    "\n",
    "After examining the scrapped data, we see that the posts itself and the title both hold meaningful words for our analysis. So, we combine these 2 together and apply techniques to split the text into words, return them to their root form and also remove the stop words.\n",
    "1 interesting outcome was that we ended up having 1 empty post as all words are actually stops words. Since it became an empty post, we decided to drop that post for our analysis.\n",
    "\n",
    "Once we have cleaned the datasets, we start with putting it into our first modelling which is a simple combination of CountVectorizer and LogisticRegression. Comparing to the baseline accuracy of 51%, this basic model has a better score however it is overfitting.\n",
    "\n",
    "Using the same model, we added in pipelines and gridsearch to look for the best parameters and see if it will improve the score. The result shows that the variance was greatly reduced however, the accuracy needs to be improved.\n",
    "\n",
    "We run a function that uses 2 vectorizers (CountVectorizer and TfidVectorizer) with 3 models (LogisticRegression, MultinomialNB and KNeighborsClassifier. That gives a return of 6 results.\n",
    "As mentioned in the problem statement, we are looking out for individual who fall under the depression category but our prediction shows otherwise. This are the false negatives result we are looking at and thus apart from the accuracy, we will also be focusing on the recall score.\n",
    "\n",
    "\n",
    "### Contents:\n",
    "- [Import clean datasets](#Import-clean-datasets)\n",
    "- [Modelling](#Modelling)\n",
    "- [Evaluation](#Evaluation)\n",
    "- [Conclusion and Recommendation](#Conclusion-and-Recommendation)"
   ]
  },
  {
   "cell_type": "code",
   "execution_count": 1,
   "metadata": {},
   "outputs": [
    {
     "name": "stderr",
     "output_type": "stream",
     "text": [
      "C:\\Users\\eukar\\Anaconda3\\lib\\site-packages\\statsmodels\\tools\\_testing.py:19: FutureWarning: pandas.util.testing is deprecated. Use the functions in the public API at pandas.testing instead.\n",
      "  import pandas.util.testing as tm\n"
     ]
    }
   ],
   "source": [
    "import requests\n",
    "import time\n",
    "import pandas as pd\n",
    "import numpy as np\n",
    "import random\n",
    "import matplotlib\n",
    "import matplotlib.pyplot as plt\n",
    "import seaborn as sns\n",
    "\n",
    "from nltk.tokenize import RegexpTokenizer\n",
    "from nltk.stem import WordNetLemmatizer\n",
    "from nltk.corpus import stopwords\n",
    "from wordcloud import WordCloud, STOPWORDS\n",
    "from sklearn.feature_extraction.text import CountVectorizer, TfidfVectorizer\n",
    "from sklearn.naive_bayes import MultinomialNB\n",
    "from sklearn.neighbors import KNeighborsClassifier\n",
    "from sklearn.pipeline import Pipeline\n",
    "from sklearn.model_selection import train_test_split, GridSearchCV, cross_val_score\n",
    "from sklearn.linear_model import LogisticRegression\n",
    "import regex as re\n",
    "from sklearn.metrics import confusion_matrix, accuracy_score, roc_auc_score, precision_score, recall_score, f1_score\n",
    "\n",
    "%matplotlib inline\n",
    "%config InlineBackend.figure_format = 'retina'"
   ]
  },
  {
   "cell_type": "markdown",
   "metadata": {},
   "source": [
    "# Import clean datasets"
   ]
  },
  {
   "cell_type": "code",
   "execution_count": 2,
   "metadata": {},
   "outputs": [],
   "source": [
    "depress = pd.read_csv('datasets\\depress_clean.csv')\n",
    "suicide = pd.read_csv('datasets\\suicide_clean.csv')"
   ]
  },
  {
   "cell_type": "code",
   "execution_count": 3,
   "metadata": {},
   "outputs": [
    {
     "name": "stdout",
     "output_type": "stream",
     "text": [
      "(946, 2)\n"
     ]
    },
    {
     "data": {
      "text/html": [
       "<div>\n",
       "<style scoped>\n",
       "    .dataframe tbody tr th:only-of-type {\n",
       "        vertical-align: middle;\n",
       "    }\n",
       "\n",
       "    .dataframe tbody tr th {\n",
       "        vertical-align: top;\n",
       "    }\n",
       "\n",
       "    .dataframe thead th {\n",
       "        text-align: right;\n",
       "    }\n",
       "</style>\n",
       "<table border=\"1\" class=\"dataframe\">\n",
       "  <thead>\n",
       "    <tr style=\"text-align: right;\">\n",
       "      <th></th>\n",
       "      <th>selftext_title</th>\n",
       "      <th>is_suicide</th>\n",
       "    </tr>\n",
       "  </thead>\n",
       "  <tbody>\n",
       "    <tr>\n",
       "      <th>0</th>\n",
       "      <td>understand people reply immediately op invitat...</td>\n",
       "      <td>0</td>\n",
       "    </tr>\n",
       "    <tr>\n",
       "      <th>1</th>\n",
       "      <td>welcome r depression check post place take mom...</td>\n",
       "      <td>0</td>\n",
       "    </tr>\n",
       "    <tr>\n",
       "      <th>2</th>\n",
       "      <td>worst time dealing pain know new pain quite li...</td>\n",
       "      <td>0</td>\n",
       "    </tr>\n",
       "    <tr>\n",
       "      <th>3</th>\n",
       "      <td>hey want share recent triumph thought killing ...</td>\n",
       "      <td>0</td>\n",
       "    </tr>\n",
       "    <tr>\n",
       "      <th>4</th>\n",
       "      <td>want say fuck life fuck life</td>\n",
       "      <td>0</td>\n",
       "    </tr>\n",
       "  </tbody>\n",
       "</table>\n",
       "</div>"
      ],
      "text/plain": [
       "                                      selftext_title  is_suicide\n",
       "0  understand people reply immediately op invitat...           0\n",
       "1  welcome r depression check post place take mom...           0\n",
       "2  worst time dealing pain know new pain quite li...           0\n",
       "3  hey want share recent triumph thought killing ...           0\n",
       "4                       want say fuck life fuck life           0"
      ]
     },
     "execution_count": 3,
     "metadata": {},
     "output_type": "execute_result"
    }
   ],
   "source": [
    "# Checking out the shape and head of depress dataset\n",
    "\n",
    "print(depress.shape)\n",
    "depress.head()"
   ]
  },
  {
   "cell_type": "code",
   "execution_count": 4,
   "metadata": {},
   "outputs": [
    {
     "name": "stdout",
     "output_type": "stream",
     "text": [
      "(983, 2)\n"
     ]
    },
    {
     "data": {
      "text/html": [
       "<div>\n",
       "<style scoped>\n",
       "    .dataframe tbody tr th:only-of-type {\n",
       "        vertical-align: middle;\n",
       "    }\n",
       "\n",
       "    .dataframe tbody tr th {\n",
       "        vertical-align: top;\n",
       "    }\n",
       "\n",
       "    .dataframe thead th {\n",
       "        text-align: right;\n",
       "    }\n",
       "</style>\n",
       "<table border=\"1\" class=\"dataframe\">\n",
       "  <thead>\n",
       "    <tr style=\"text-align: right;\">\n",
       "      <th></th>\n",
       "      <th>selftext_title</th>\n",
       "      <th>is_suicide</th>\n",
       "    </tr>\n",
       "  </thead>\n",
       "  <tbody>\n",
       "    <tr>\n",
       "      <th>0</th>\n",
       "      <td>seeing worrying increase pro suicide content s...</td>\n",
       "      <td>1</td>\n",
       "    </tr>\n",
       "    <tr>\n",
       "      <th>1</th>\n",
       "      <td>want recognise occasion please offering extra ...</td>\n",
       "      <td>1</td>\n",
       "    </tr>\n",
       "    <tr>\n",
       "      <th>2</th>\n",
       "      <td>please get one comment upvote wanna feel alone...</td>\n",
       "      <td>1</td>\n",
       "    </tr>\n",
       "    <tr>\n",
       "      <th>3</th>\n",
       "      <td>dear friend family lost long battle thought ta...</td>\n",
       "      <td>1</td>\n",
       "    </tr>\n",
       "    <tr>\n",
       "      <th>4</th>\n",
       "      <td>first time decade getting help needed never la...</td>\n",
       "      <td>1</td>\n",
       "    </tr>\n",
       "  </tbody>\n",
       "</table>\n",
       "</div>"
      ],
      "text/plain": [
       "                                      selftext_title  is_suicide\n",
       "0  seeing worrying increase pro suicide content s...           1\n",
       "1  want recognise occasion please offering extra ...           1\n",
       "2  please get one comment upvote wanna feel alone...           1\n",
       "3  dear friend family lost long battle thought ta...           1\n",
       "4  first time decade getting help needed never la...           1"
      ]
     },
     "execution_count": 4,
     "metadata": {},
     "output_type": "execute_result"
    }
   ],
   "source": [
    "# Checking out the shape and head of suicide dataset\n",
    "\n",
    "print(suicide.shape)\n",
    "suicide.head()"
   ]
  },
  {
   "cell_type": "code",
   "execution_count": 5,
   "metadata": {},
   "outputs": [
    {
     "data": {
      "text/html": [
       "<div>\n",
       "<style scoped>\n",
       "    .dataframe tbody tr th:only-of-type {\n",
       "        vertical-align: middle;\n",
       "    }\n",
       "\n",
       "    .dataframe tbody tr th {\n",
       "        vertical-align: top;\n",
       "    }\n",
       "\n",
       "    .dataframe thead th {\n",
       "        text-align: right;\n",
       "    }\n",
       "</style>\n",
       "<table border=\"1\" class=\"dataframe\">\n",
       "  <thead>\n",
       "    <tr style=\"text-align: right;\">\n",
       "      <th></th>\n",
       "      <th>is_suicide</th>\n",
       "      <th>selftext_title</th>\n",
       "    </tr>\n",
       "  </thead>\n",
       "  <tbody>\n",
       "    <tr>\n",
       "      <th>0</th>\n",
       "      <td>0</td>\n",
       "      <td>understand people reply immediately op invitat...</td>\n",
       "    </tr>\n",
       "    <tr>\n",
       "      <th>1</th>\n",
       "      <td>0</td>\n",
       "      <td>welcome r depression check post place take mom...</td>\n",
       "    </tr>\n",
       "    <tr>\n",
       "      <th>2</th>\n",
       "      <td>0</td>\n",
       "      <td>worst time dealing pain know new pain quite li...</td>\n",
       "    </tr>\n",
       "    <tr>\n",
       "      <th>3</th>\n",
       "      <td>0</td>\n",
       "      <td>hey want share recent triumph thought killing ...</td>\n",
       "    </tr>\n",
       "    <tr>\n",
       "      <th>4</th>\n",
       "      <td>0</td>\n",
       "      <td>want say fuck life fuck life</td>\n",
       "    </tr>\n",
       "  </tbody>\n",
       "</table>\n",
       "</div>"
      ],
      "text/plain": [
       "   is_suicide                                     selftext_title\n",
       "0           0  understand people reply immediately op invitat...\n",
       "1           0  welcome r depression check post place take mom...\n",
       "2           0  worst time dealing pain know new pain quite li...\n",
       "3           0  hey want share recent triumph thought killing ...\n",
       "4           0                       want say fuck life fuck life"
      ]
     },
     "execution_count": 5,
     "metadata": {},
     "output_type": "execute_result"
    }
   ],
   "source": [
    "# merge both datasets together before assigning predictors and perform any train/test split.\n",
    "\n",
    "all_df = depress.append(suicide, sort=True)\n",
    "all_df.head()"
   ]
  },
  {
   "cell_type": "code",
   "execution_count": 6,
   "metadata": {},
   "outputs": [],
   "source": [
    "# X will be the selftext_title column while y will be the is_suicide column\n",
    "\n",
    "X = all_df['selftext_title']\n",
    "y = all_df['is_suicide']"
   ]
  },
  {
   "cell_type": "markdown",
   "metadata": {},
   "source": [
    "We will use both CountVectorizer and TfidVectorizer from scikit-learn to create features from the selftext_title."
   ]
  },
  {
   "cell_type": "markdown",
   "metadata": {},
   "source": [
    "# Modelling"
   ]
  },
  {
   "cell_type": "code",
   "execution_count": 7,
   "metadata": {},
   "outputs": [],
   "source": [
    "# Train/Test split\n",
    "# Keeping the stratify=y although our datasets are pretty balance\n",
    "\n",
    "X_train, X_test, y_train, y_test = train_test_split(X, y, stratify=y, random_state=42) "
   ]
  },
  {
   "cell_type": "code",
   "execution_count": 8,
   "metadata": {},
   "outputs": [
    {
     "data": {
      "text/plain": [
       "1    0.50959\n",
       "0    0.49041\n",
       "Name: is_suicide, dtype: float64"
      ]
     },
     "execution_count": 8,
     "metadata": {},
     "output_type": "execute_result"
    }
   ],
   "source": [
    "# 1st, let's get our baseline accuracy\n",
    "# As 0.51 is higher than 0.49, 0.51 shall be the baseline accuracy \n",
    "\n",
    "y.value_counts(normalize=True)"
   ]
  },
  {
   "cell_type": "code",
   "execution_count": 9,
   "metadata": {},
   "outputs": [
    {
     "name": "stdout",
     "output_type": "stream",
     "text": [
      "There are 8993 features in the model.\n",
      "Train score: 0.9889349930843707 \n",
      "Test score: 0.6728778467908902\n"
     ]
    }
   ],
   "source": [
    "# Basic CountVectorizer and LogisticRegression to get a simple first model\n",
    "\n",
    "cv_simple = CountVectorizer()\n",
    "X_train_cv = cv_simple.fit_transform(X_train)\n",
    "X_test_cv = cv_simple.transform(X_test)\n",
    "\n",
    "print('There are {} features in the model.'.format(len(cv_simple.get_feature_names())))\n",
    "\n",
    "lr_simple = LogisticRegression(solver='liblinear')\n",
    "lr_simple.fit(X_train_cv, y_train)\n",
    "score_train = lr_simple.score(X_train_cv, y_train)\n",
    "score_test = lr_simple.score(X_test_cv, y_test)\n",
    "\n",
    "print('Train score: {} \\nTest score: {}'.format(score_train, score_test))"
   ]
  },
  {
   "cell_type": "markdown",
   "metadata": {},
   "source": [
    "The score of the simple basic model of CountVectorizer and LogisticRegression is better than the baseline accuracy of 0.51.\\\n",
    "However, it seems to be overfitting with high variance."
   ]
  },
  {
   "cell_type": "code",
   "execution_count": 10,
   "metadata": {},
   "outputs": [
    {
     "data": {
      "text/html": [
       "<div>\n",
       "<style scoped>\n",
       "    .dataframe tbody tr th:only-of-type {\n",
       "        vertical-align: middle;\n",
       "    }\n",
       "\n",
       "    .dataframe tbody tr th {\n",
       "        vertical-align: top;\n",
       "    }\n",
       "\n",
       "    .dataframe thead th {\n",
       "        text-align: right;\n",
       "    }\n",
       "</style>\n",
       "<table border=\"1\" class=\"dataframe\">\n",
       "  <thead>\n",
       "    <tr style=\"text-align: right;\">\n",
       "      <th></th>\n",
       "      <th>coef</th>\n",
       "    </tr>\n",
       "    <tr>\n",
       "      <th>features</th>\n",
       "      <th></th>\n",
       "    </tr>\n",
       "  </thead>\n",
       "  <tbody>\n",
       "    <tr>\n",
       "      <th>depression</th>\n",
       "      <td>-1.322843</td>\n",
       "    </tr>\n",
       "    <tr>\n",
       "      <th>depressed</th>\n",
       "      <td>-1.171122</td>\n",
       "    </tr>\n",
       "    <tr>\n",
       "      <th>advice</th>\n",
       "      <td>-1.070040</td>\n",
       "    </tr>\n",
       "    <tr>\n",
       "      <th>suicide</th>\n",
       "      <td>1.053179</td>\n",
       "    </tr>\n",
       "    <tr>\n",
       "      <th>future</th>\n",
       "      <td>0.993349</td>\n",
       "    </tr>\n",
       "    <tr>\n",
       "      <th>numb</th>\n",
       "      <td>-0.976061</td>\n",
       "    </tr>\n",
       "    <tr>\n",
       "      <th>kill</th>\n",
       "      <td>0.965650</td>\n",
       "    </tr>\n",
       "    <tr>\n",
       "      <th>three</th>\n",
       "      <td>-0.961023</td>\n",
       "    </tr>\n",
       "    <tr>\n",
       "      <th>wondering</th>\n",
       "      <td>-0.932214</td>\n",
       "    </tr>\n",
       "    <tr>\n",
       "      <th>holding</th>\n",
       "      <td>0.889355</td>\n",
       "    </tr>\n",
       "    <tr>\n",
       "      <th>friendship</th>\n",
       "      <td>-0.879591</td>\n",
       "    </tr>\n",
       "    <tr>\n",
       "      <th>pill</th>\n",
       "      <td>0.877442</td>\n",
       "    </tr>\n",
       "    <tr>\n",
       "      <th>eat</th>\n",
       "      <td>-0.860426</td>\n",
       "    </tr>\n",
       "    <tr>\n",
       "      <th>self</th>\n",
       "      <td>-0.856271</td>\n",
       "    </tr>\n",
       "    <tr>\n",
       "      <th>miserable</th>\n",
       "      <td>-0.844211</td>\n",
       "    </tr>\n",
       "  </tbody>\n",
       "</table>\n",
       "</div>"
      ],
      "text/plain": [
       "                coef\n",
       "features            \n",
       "depression -1.322843\n",
       "depressed  -1.171122\n",
       "advice     -1.070040\n",
       "suicide     1.053179\n",
       "future      0.993349\n",
       "numb       -0.976061\n",
       "kill        0.965650\n",
       "three      -0.961023\n",
       "wondering  -0.932214\n",
       "holding     0.889355\n",
       "friendship -0.879591\n",
       "pill        0.877442\n",
       "eat        -0.860426\n",
       "self       -0.856271\n",
       "miserable  -0.844211"
      ]
     },
     "execution_count": 10,
     "metadata": {},
     "output_type": "execute_result"
    }
   ],
   "source": [
    "# Words that best predict the target based on the coefficients\n",
    "\n",
    "coef_names = cv_simple.get_feature_names()\n",
    "\n",
    "coef_df = pd.DataFrame ({\n",
    "    'features' : coef_names,\n",
    "    'coef' : lr_simple.coef_[0]\n",
    "}).set_index('features')\n",
    "\n",
    "coef_df.reindex(coef_df['coef'].abs().sort_values(ascending=False).index)[:15]"
   ]
  },
  {
   "cell_type": "markdown",
   "metadata": {},
   "source": [
    "Strangely to find depression/depressed are not lemmatized/stemmed. Need to further investigate on this."
   ]
  },
  {
   "cell_type": "markdown",
   "metadata": {},
   "source": [
    "Will run CountVectorizer and LogisticRegression again but this time round adding in pipeline and grid search."
   ]
  },
  {
   "cell_type": "code",
   "execution_count": 11,
   "metadata": {},
   "outputs": [],
   "source": [
    "# Creating pipeline. Creating CountVectorizer and logReg\n",
    "\n",
    "pipe = Pipeline([\n",
    "    ('cvec', CountVectorizer()),\n",
    "    ('lr', LogisticRegression(solver='liblinear'))\n",
    "    ])"
   ]
  },
  {
   "cell_type": "code",
   "execution_count": 12,
   "metadata": {},
   "outputs": [
    {
     "name": "stdout",
     "output_type": "stream",
     "text": [
      "Fitting 3 folds for each of 24 candidates, totalling 72 fits\n"
     ]
    },
    {
     "name": "stderr",
     "output_type": "stream",
     "text": [
      "[Parallel(n_jobs=1)]: Using backend SequentialBackend with 1 concurrent workers.\n",
      "[Parallel(n_jobs=1)]: Done  72 out of  72 | elapsed:   12.7s finished\n"
     ]
    },
    {
     "name": "stdout",
     "output_type": "stream",
     "text": [
      "cvec__max_features: 3000\n",
      "cvec__min_df: 2\n",
      "cvec__max_df: 0.9\n",
      "cvec__ngram_range: (1, 2)\n",
      "Train score: 0.665283540802213 \n",
      "Test score: 0.6563146997929606\n"
     ]
    }
   ],
   "source": [
    "pipe_params = {\n",
    "    'cvec__max_features': [2500, 3000, 3500],\n",
    "    'cvec__min_df': [2, 3],\n",
    "    'cvec__max_df': [.9, .95],\n",
    "    'cvec__ngram_range': [(1,1), (1,2)]\n",
    "}\n",
    "gs = GridSearchCV(pipe, param_grid=pipe_params, cv=3, verbose=1)\n",
    "gs.fit(X_train, y_train)\n",
    "score_train = gs.best_score_\n",
    "score_test = gs.score(X_test, y_test)\n",
    "best_params = gs.best_params_\n",
    "\n",
    "for i in pipe_params:\n",
    "    print('{}: {}'.format(i,best_params[i]))\n",
    "\n",
    "print('Train score: {} \\nTest score: {}'.format(score_train, score_test))"
   ]
  },
  {
   "cell_type": "code",
   "execution_count": 13,
   "metadata": {},
   "outputs": [
    {
     "data": {
      "text/html": [
       "<div>\n",
       "<style scoped>\n",
       "    .dataframe tbody tr th:only-of-type {\n",
       "        vertical-align: middle;\n",
       "    }\n",
       "\n",
       "    .dataframe tbody tr th {\n",
       "        vertical-align: top;\n",
       "    }\n",
       "\n",
       "    .dataframe thead th {\n",
       "        text-align: right;\n",
       "    }\n",
       "</style>\n",
       "<table border=\"1\" class=\"dataframe\">\n",
       "  <thead>\n",
       "    <tr style=\"text-align: right;\">\n",
       "      <th></th>\n",
       "      <th>coef</th>\n",
       "    </tr>\n",
       "    <tr>\n",
       "      <th>features</th>\n",
       "      <th></th>\n",
       "    </tr>\n",
       "  </thead>\n",
       "  <tbody>\n",
       "    <tr>\n",
       "      <th>depression</th>\n",
       "      <td>-1.379363</td>\n",
       "    </tr>\n",
       "    <tr>\n",
       "      <th>wondering</th>\n",
       "      <td>-1.191003</td>\n",
       "    </tr>\n",
       "    <tr>\n",
       "      <th>suicide</th>\n",
       "      <td>1.182913</td>\n",
       "    </tr>\n",
       "    <tr>\n",
       "      <th>depressed</th>\n",
       "      <td>-1.177032</td>\n",
       "    </tr>\n",
       "    <tr>\n",
       "      <th>kill</th>\n",
       "      <td>1.124166</td>\n",
       "    </tr>\n",
       "    <tr>\n",
       "      <th>advice</th>\n",
       "      <td>-0.999078</td>\n",
       "    </tr>\n",
       "    <tr>\n",
       "      <th>normal</th>\n",
       "      <td>-0.981744</td>\n",
       "    </tr>\n",
       "    <tr>\n",
       "      <th>friendship</th>\n",
       "      <td>-0.978809</td>\n",
       "    </tr>\n",
       "    <tr>\n",
       "      <th>eat</th>\n",
       "      <td>-0.935213</td>\n",
       "    </tr>\n",
       "    <tr>\n",
       "      <th>miserable</th>\n",
       "      <td>-0.917823</td>\n",
       "    </tr>\n",
       "    <tr>\n",
       "      <th>pill</th>\n",
       "      <td>0.897187</td>\n",
       "    </tr>\n",
       "    <tr>\n",
       "      <th>boring</th>\n",
       "      <td>-0.889350</td>\n",
       "    </tr>\n",
       "    <tr>\n",
       "      <th>future</th>\n",
       "      <td>0.888504</td>\n",
       "    </tr>\n",
       "    <tr>\n",
       "      <th>suicidal</th>\n",
       "      <td>0.868631</td>\n",
       "    </tr>\n",
       "    <tr>\n",
       "      <th>three</th>\n",
       "      <td>-0.840797</td>\n",
       "    </tr>\n",
       "  </tbody>\n",
       "</table>\n",
       "</div>"
      ],
      "text/plain": [
       "                coef\n",
       "features            \n",
       "depression -1.379363\n",
       "wondering  -1.191003\n",
       "suicide     1.182913\n",
       "depressed  -1.177032\n",
       "kill        1.124166\n",
       "advice     -0.999078\n",
       "normal     -0.981744\n",
       "friendship -0.978809\n",
       "eat        -0.935213\n",
       "miserable  -0.917823\n",
       "pill        0.897187\n",
       "boring     -0.889350\n",
       "future      0.888504\n",
       "suicidal    0.868631\n",
       "three      -0.840797"
      ]
     },
     "execution_count": 13,
     "metadata": {},
     "output_type": "execute_result"
    }
   ],
   "source": [
    "# Taking a look again at the words that best predict the target based on the coefficients\n",
    "\n",
    "coef_names = gs.best_estimator_.named_steps['cvec'].get_feature_names()\n",
    "coef_values = gs.best_estimator_.named_steps['lr'].coef_[0]\n",
    "\n",
    "coef_df = pd.DataFrame ({\n",
    "    'features' : coef_names,\n",
    "    'coef' : coef_values\n",
    "}).set_index('features')\n",
    "\n",
    "coef_df.reindex(coef_df['coef'].abs().sort_values(ascending=False).index)[:15]"
   ]
  },
  {
   "cell_type": "markdown",
   "metadata": {},
   "source": [
    "- The variance is greatly reduced suggest that the model is able to generalize well.\n",
    "- However, we need to improve on the score to achieve a higher accuracy on the prediction.\n",
    "- Changes are observed with the feature names. \n",
    "- Seems that we have more relevant/related key words appearing now."
   ]
  },
  {
   "cell_type": "markdown",
   "metadata": {},
   "source": [
    "Creating a function to ease the grid search of different parameters and model."
   ]
  },
  {
   "cell_type": "code",
   "execution_count": 14,
   "metadata": {},
   "outputs": [],
   "source": [
    "# https://scikit-learn.org/stable/modules/generated/sklearn.linear_model.LogisticRegression.html\n",
    "\n",
    "def create_pipeline(items, use_params, X_train, X_test, y_train, y_test):\n",
    "    \n",
    "    # Create pipeline\n",
    "    pipe_items={\n",
    "        'cv': CountVectorizer(),\n",
    "        'tv': TfidfVectorizer(),\n",
    "        'lr': LogisticRegression(solver='liblinear'),\n",
    "        'mnb': MultinomialNB(),\n",
    "        'knn': KNeighborsClassifier()\n",
    "    }\n",
    "    \n",
    "    # Create param for each pipe_item\n",
    "    param_items = {\n",
    "        'cv': {'cv__max_features': [2000, 2500, 3000],\n",
    "               'cv__min_df': [2, 3],\n",
    "               'cv__max_df': [.85, .9],\n",
    "               'cv__ngram_range': [(1,1), (1,2)],\n",
    "              },\n",
    "        'tv': {'tv__max_features': [2000, 2500, 3000],\n",
    "               'tv__min_df': [2, 3],\n",
    "               'tv__max_df': [.85, .9],\n",
    "               'tv__ngram_range': [(1,1), (1,2)],\n",
    "              },\n",
    "        'lr': {'lr__C': [1, .05], # Inverse of regularization strength; must be a positive float. Like in support vector machines, smaller values specify stronger regularization.\n",
    "              },\n",
    "        'mnb': {'mnb__alpha': [0.6, 0.8, 1.0]\n",
    "               },\n",
    "        'knn': {'knn__n_neighbors': [15,25,35,45,55]\n",
    "               }\n",
    "    }\n",
    "    \n",
    "    # Parameters for GridSearch\n",
    "    params = dict()\n",
    "    if use_params:\n",
    "        for i in items:\n",
    "            for p in param_items[i]:\n",
    "                params[p] = param_items[i][p]    \n",
    "    \n",
    "    # Pipeline\n",
    "    pipe_list = [(i,pipe_items[i]) for i in items]\n",
    "    print('Using:')\n",
    "    \n",
    "    for p in pipe_list:\n",
    "        print('\\t' + str(p[1]).split('(')[0])\n",
    "    pipe = Pipeline(pipe_list)\n",
    "    \n",
    "    # GridSearch \n",
    "    gs = GridSearchCV(pipe, param_grid=params, verbose=1)\n",
    "    gs.fit(X_train, y_train)\n",
    "    \n",
    "    # Print results\n",
    "    train_params = gs.best_params_\n",
    "    train_score = gs.score(X_train, y_train)\n",
    "    y_test_hat = gs.predict(X_test)\n",
    "    test_score = gs.score(X_test, y_test)\n",
    "    ROC_AUC = roc_auc_score(y_test, y_test_hat)\n",
    "    accuracy = accuracy_score(y_test, y_test_hat)\n",
    "    f1 = f1_score(y_test, y_test_hat)\n",
    "    recall = recall_score(y_test, y_test_hat)\n",
    "    precision = precision_score(y_test, y_test_hat)\n",
    "    \n",
    "    for r in train_params:\n",
    "        print('{}: {}'.format(r,train_params[r]))\n",
    "        \n",
    "    print('Train score: {}'.format(train_score))\n",
    "    print('Test score: {}'.format(test_score))\n",
    "    print('ROC_AUC score: {}'.format(ROC_AUC))\n",
    "    print('accuracy score: {}'.format(accuracy))\n",
    "    print('f1 score: {}'.format(f1))\n",
    "    print('recall score: {}'.format(recall))\n",
    "    print('precision score: {}'.format(precision))\n",
    "    print('')\n",
    "    \n",
    "    return train_score, test_score, ROC_AUC, accuracy, f1, recall, precision, y_test_hat, train_params"
   ]
  },
  {
   "cell_type": "markdown",
   "metadata": {},
   "source": [
    "Next, we will run the function to generate results of different vectorizer and model combination."
   ]
  },
  {
   "cell_type": "code",
   "execution_count": 15,
   "metadata": {},
   "outputs": [
    {
     "name": "stdout",
     "output_type": "stream",
     "text": [
      "Using:\n",
      "\tCountVectorizer\n",
      "\tLogisticRegression\n",
      "Fitting 3 folds for each of 48 candidates, totalling 144 fits\n"
     ]
    },
    {
     "name": "stderr",
     "output_type": "stream",
     "text": [
      "C:\\Users\\eukar\\Anaconda3\\lib\\site-packages\\sklearn\\model_selection\\_split.py:1978: FutureWarning: The default value of cv will change from 3 to 5 in version 0.22. Specify it explicitly to silence this warning.\n",
      "  warnings.warn(CV_WARNING, FutureWarning)\n",
      "[Parallel(n_jobs=1)]: Using backend SequentialBackend with 1 concurrent workers.\n",
      "[Parallel(n_jobs=1)]: Done 144 out of 144 | elapsed:   25.9s finished\n"
     ]
    },
    {
     "name": "stdout",
     "output_type": "stream",
     "text": [
      "cv__max_df: 0.85\n",
      "cv__max_features: 3000\n",
      "cv__min_df: 2\n",
      "cv__ngram_range: (1, 2)\n",
      "lr__C: 0.05\n",
      "Train score: 0.9080221300138313\n",
      "Test score: 0.6956521739130435\n",
      "ROC_AUC score: 0.6948903982710712\n",
      "accuracy score: 0.6956521739130435\n",
      "f1 score: 0.7111984282907662\n",
      "recall score: 0.7357723577235772\n",
      "precision score: 0.688212927756654\n",
      "\n",
      "Using:\n",
      "\tCountVectorizer\n",
      "\tMultinomialNB\n",
      "Fitting 3 folds for each of 72 candidates, totalling 216 fits\n"
     ]
    },
    {
     "name": "stderr",
     "output_type": "stream",
     "text": [
      "C:\\Users\\eukar\\Anaconda3\\lib\\site-packages\\sklearn\\model_selection\\_split.py:1978: FutureWarning: The default value of cv will change from 3 to 5 in version 0.22. Specify it explicitly to silence this warning.\n",
      "  warnings.warn(CV_WARNING, FutureWarning)\n",
      "[Parallel(n_jobs=1)]: Using backend SequentialBackend with 1 concurrent workers.\n",
      "[Parallel(n_jobs=1)]: Done 216 out of 216 | elapsed:   37.4s finished\n"
     ]
    },
    {
     "name": "stdout",
     "output_type": "stream",
     "text": [
      "cv__max_df: 0.85\n",
      "cv__max_features: 2000\n",
      "cv__min_df: 3\n",
      "cv__ngram_range: (1, 1)\n",
      "mnb__alpha: 1.0\n",
      "Train score: 0.8485477178423236\n",
      "Test score: 0.7080745341614907\n",
      "ROC_AUC score: 0.7069311515899969\n",
      "accuracy score: 0.7080745341614907\n",
      "f1 score: 0.7283236994219653\n",
      "recall score: 0.7682926829268293\n",
      "precision score: 0.6923076923076923\n",
      "\n",
      "Using:\n",
      "\tCountVectorizer\n",
      "\tKNeighborsClassifier\n",
      "Fitting 3 folds for each of 120 candidates, totalling 360 fits\n"
     ]
    },
    {
     "name": "stderr",
     "output_type": "stream",
     "text": [
      "C:\\Users\\eukar\\Anaconda3\\lib\\site-packages\\sklearn\\model_selection\\_split.py:1978: FutureWarning: The default value of cv will change from 3 to 5 in version 0.22. Specify it explicitly to silence this warning.\n",
      "  warnings.warn(CV_WARNING, FutureWarning)\n",
      "[Parallel(n_jobs=1)]: Using backend SequentialBackend with 1 concurrent workers.\n",
      "[Parallel(n_jobs=1)]: Done 360 out of 360 | elapsed:  1.2min finished\n"
     ]
    },
    {
     "name": "stdout",
     "output_type": "stream",
     "text": [
      "cv__max_df: 0.85\n",
      "cv__max_features: 2000\n",
      "cv__min_df: 2\n",
      "cv__ngram_range: (1, 1)\n",
      "knn__n_neighbors: 25\n",
      "Train score: 0.5663900414937759\n",
      "Test score: 0.5962732919254659\n",
      "ROC_AUC score: 0.5897653596789132\n",
      "accuracy score: 0.5962732919254659\n",
      "f1 score: 0.7031963470319634\n",
      "recall score: 0.9390243902439024\n",
      "precision score: 0.5620437956204379\n",
      "\n",
      "Using:\n",
      "\tTfidfVectorizer\n",
      "\tLogisticRegression\n",
      "Fitting 3 folds for each of 48 candidates, totalling 144 fits\n"
     ]
    },
    {
     "name": "stderr",
     "output_type": "stream",
     "text": [
      "C:\\Users\\eukar\\Anaconda3\\lib\\site-packages\\sklearn\\model_selection\\_split.py:1978: FutureWarning: The default value of cv will change from 3 to 5 in version 0.22. Specify it explicitly to silence this warning.\n",
      "  warnings.warn(CV_WARNING, FutureWarning)\n",
      "[Parallel(n_jobs=1)]: Using backend SequentialBackend with 1 concurrent workers.\n",
      "[Parallel(n_jobs=1)]: Done 144 out of 144 | elapsed:   24.5s finished\n",
      "C:\\Users\\eukar\\Anaconda3\\lib\\site-packages\\sklearn\\model_selection\\_split.py:1978: FutureWarning: The default value of cv will change from 3 to 5 in version 0.22. Specify it explicitly to silence this warning.\n",
      "  warnings.warn(CV_WARNING, FutureWarning)\n"
     ]
    },
    {
     "name": "stdout",
     "output_type": "stream",
     "text": [
      "lr__C: 1\n",
      "tv__max_df: 0.85\n",
      "tv__max_features: 2500\n",
      "tv__min_df: 2\n",
      "tv__ngram_range: (1, 1)\n",
      "Train score: 0.8838174273858921\n",
      "Test score: 0.7101449275362319\n",
      "ROC_AUC score: 0.7096583307605229\n",
      "accuracy score: 0.7101449275362319\n",
      "f1 score: 0.7211155378486055\n",
      "recall score: 0.7357723577235772\n",
      "precision score: 0.70703125\n",
      "\n",
      "Using:\n",
      "\tTfidfVectorizer\n",
      "\tMultinomialNB\n",
      "Fitting 3 folds for each of 72 candidates, totalling 216 fits\n"
     ]
    },
    {
     "name": "stderr",
     "output_type": "stream",
     "text": [
      "[Parallel(n_jobs=1)]: Using backend SequentialBackend with 1 concurrent workers.\n",
      "[Parallel(n_jobs=1)]: Done 216 out of 216 | elapsed:   34.8s finished\n"
     ]
    },
    {
     "name": "stdout",
     "output_type": "stream",
     "text": [
      "mnb__alpha: 0.8\n",
      "tv__max_df: 0.85\n",
      "tv__max_features: 2000\n",
      "tv__min_df: 2\n",
      "tv__ngram_range: (1, 1)\n",
      "Train score: 0.8817427385892116\n",
      "Test score: 0.7246376811594203\n",
      "ROC_AUC score: 0.7235000514562108\n",
      "accuracy score: 0.7246376811594203\n",
      "f1 score: 0.74373795761079\n",
      "recall score: 0.7845528455284553\n",
      "precision score: 0.706959706959707\n",
      "\n",
      "Using:\n",
      "\tTfidfVectorizer\n",
      "\tKNeighborsClassifier\n",
      "Fitting 3 folds for each of 120 candidates, totalling 360 fits\n"
     ]
    },
    {
     "name": "stderr",
     "output_type": "stream",
     "text": [
      "C:\\Users\\eukar\\Anaconda3\\lib\\site-packages\\sklearn\\model_selection\\_split.py:1978: FutureWarning: The default value of cv will change from 3 to 5 in version 0.22. Specify it explicitly to silence this warning.\n",
      "  warnings.warn(CV_WARNING, FutureWarning)\n",
      "[Parallel(n_jobs=1)]: Using backend SequentialBackend with 1 concurrent workers.\n",
      "[Parallel(n_jobs=1)]: Done 360 out of 360 | elapsed:  1.2min finished\n"
     ]
    },
    {
     "name": "stdout",
     "output_type": "stream",
     "text": [
      "knn__n_neighbors: 15\n",
      "tv__max_df: 0.85\n",
      "tv__max_features: 3000\n",
      "tv__min_df: 2\n",
      "tv__ngram_range: (1, 1)\n",
      "Train score: 0.6964038727524204\n",
      "Test score: 0.660455486542443\n",
      "ROC_AUC score: 0.6594113409488525\n",
      "accuracy score: 0.660455486542443\n",
      "f1 score: 0.682170542635659\n",
      "recall score: 0.7154471544715447\n",
      "precision score: 0.6518518518518519\n",
      "\n"
     ]
    }
   ],
   "source": [
    "use_params = True\n",
    "vects = ['cv', 'tv']\n",
    "models = ['lr', 'mnb', 'knn']\n",
    "\n",
    "model_soln = {}\n",
    "index = 0\n",
    "for v in vects:\n",
    "    for m in models:\n",
    "        index += 1\n",
    "        pipe_items = [v]\n",
    "        pipe_items.append(m)\n",
    "        [train_score, test_score, ROC_AUC, accuracy, f1, recall, precision, y_test_hat, best_params] = create_pipeline(pipe_items, use_params, X_train, X_test, y_train, y_test)\n",
    "        \n",
    "        model_soln[index] = {'vectorizer': v, 'model': m, 'train_score': train_score, 'test_score': test_score,\n",
    "                             'ROC_AUC score' : ROC_AUC, 'accuracy': accuracy, 'f1_score': f1, 'recall_score': recall, \n",
    "                             'precision_score': precision, 'y_test_hat': y_test_hat, 'best_params': best_params}"
   ]
  },
  {
   "cell_type": "markdown",
   "metadata": {},
   "source": [
    "Putting the results together for comparison and selection of the best solutions"
   ]
  },
  {
   "cell_type": "code",
   "execution_count": 16,
   "metadata": {},
   "outputs": [
    {
     "data": {
      "text/html": [
       "<div>\n",
       "<style scoped>\n",
       "    .dataframe tbody tr th:only-of-type {\n",
       "        vertical-align: middle;\n",
       "    }\n",
       "\n",
       "    .dataframe tbody tr th {\n",
       "        vertical-align: top;\n",
       "    }\n",
       "\n",
       "    .dataframe thead th {\n",
       "        text-align: right;\n",
       "    }\n",
       "</style>\n",
       "<table border=\"1\" class=\"dataframe\">\n",
       "  <thead>\n",
       "    <tr style=\"text-align: right;\">\n",
       "      <th></th>\n",
       "      <th>1</th>\n",
       "      <th>2</th>\n",
       "      <th>3</th>\n",
       "      <th>4</th>\n",
       "      <th>5</th>\n",
       "      <th>6</th>\n",
       "    </tr>\n",
       "  </thead>\n",
       "  <tbody>\n",
       "    <tr>\n",
       "      <th>vectorizer</th>\n",
       "      <td>cv</td>\n",
       "      <td>cv</td>\n",
       "      <td>cv</td>\n",
       "      <td>tv</td>\n",
       "      <td>tv</td>\n",
       "      <td>tv</td>\n",
       "    </tr>\n",
       "    <tr>\n",
       "      <th>model</th>\n",
       "      <td>lr</td>\n",
       "      <td>mnb</td>\n",
       "      <td>knn</td>\n",
       "      <td>lr</td>\n",
       "      <td>mnb</td>\n",
       "      <td>knn</td>\n",
       "    </tr>\n",
       "    <tr>\n",
       "      <th>train_score</th>\n",
       "      <td>0.908022</td>\n",
       "      <td>0.848548</td>\n",
       "      <td>0.56639</td>\n",
       "      <td>0.883817</td>\n",
       "      <td>0.881743</td>\n",
       "      <td>0.696404</td>\n",
       "    </tr>\n",
       "    <tr>\n",
       "      <th>test_score</th>\n",
       "      <td>0.695652</td>\n",
       "      <td>0.708075</td>\n",
       "      <td>0.596273</td>\n",
       "      <td>0.710145</td>\n",
       "      <td>0.724638</td>\n",
       "      <td>0.660455</td>\n",
       "    </tr>\n",
       "    <tr>\n",
       "      <th>ROC_AUC score</th>\n",
       "      <td>0.69489</td>\n",
       "      <td>0.706931</td>\n",
       "      <td>0.589765</td>\n",
       "      <td>0.709658</td>\n",
       "      <td>0.7235</td>\n",
       "      <td>0.659411</td>\n",
       "    </tr>\n",
       "    <tr>\n",
       "      <th>accuracy</th>\n",
       "      <td>0.695652</td>\n",
       "      <td>0.708075</td>\n",
       "      <td>0.596273</td>\n",
       "      <td>0.710145</td>\n",
       "      <td>0.724638</td>\n",
       "      <td>0.660455</td>\n",
       "    </tr>\n",
       "    <tr>\n",
       "      <th>f1_score</th>\n",
       "      <td>0.711198</td>\n",
       "      <td>0.728324</td>\n",
       "      <td>0.703196</td>\n",
       "      <td>0.721116</td>\n",
       "      <td>0.743738</td>\n",
       "      <td>0.682171</td>\n",
       "    </tr>\n",
       "    <tr>\n",
       "      <th>recall_score</th>\n",
       "      <td>0.735772</td>\n",
       "      <td>0.768293</td>\n",
       "      <td>0.939024</td>\n",
       "      <td>0.735772</td>\n",
       "      <td>0.784553</td>\n",
       "      <td>0.715447</td>\n",
       "    </tr>\n",
       "    <tr>\n",
       "      <th>precision_score</th>\n",
       "      <td>0.688213</td>\n",
       "      <td>0.692308</td>\n",
       "      <td>0.562044</td>\n",
       "      <td>0.707031</td>\n",
       "      <td>0.70696</td>\n",
       "      <td>0.651852</td>\n",
       "    </tr>\n",
       "    <tr>\n",
       "      <th>best_params</th>\n",
       "      <td>{'cv__max_df': 0.85, 'cv__max_features': 3000,...</td>\n",
       "      <td>{'cv__max_df': 0.85, 'cv__max_features': 2000,...</td>\n",
       "      <td>{'cv__max_df': 0.85, 'cv__max_features': 2000,...</td>\n",
       "      <td>{'lr__C': 1, 'tv__max_df': 0.85, 'tv__max_feat...</td>\n",
       "      <td>{'mnb__alpha': 0.8, 'tv__max_df': 0.85, 'tv__m...</td>\n",
       "      <td>{'knn__n_neighbors': 15, 'tv__max_df': 0.85, '...</td>\n",
       "    </tr>\n",
       "  </tbody>\n",
       "</table>\n",
       "</div>"
      ],
      "text/plain": [
       "                                                                 1  \\\n",
       "vectorizer                                                      cv   \n",
       "model                                                           lr   \n",
       "train_score                                               0.908022   \n",
       "test_score                                                0.695652   \n",
       "ROC_AUC score                                              0.69489   \n",
       "accuracy                                                  0.695652   \n",
       "f1_score                                                  0.711198   \n",
       "recall_score                                              0.735772   \n",
       "precision_score                                           0.688213   \n",
       "best_params      {'cv__max_df': 0.85, 'cv__max_features': 3000,...   \n",
       "\n",
       "                                                                 2  \\\n",
       "vectorizer                                                      cv   \n",
       "model                                                          mnb   \n",
       "train_score                                               0.848548   \n",
       "test_score                                                0.708075   \n",
       "ROC_AUC score                                             0.706931   \n",
       "accuracy                                                  0.708075   \n",
       "f1_score                                                  0.728324   \n",
       "recall_score                                              0.768293   \n",
       "precision_score                                           0.692308   \n",
       "best_params      {'cv__max_df': 0.85, 'cv__max_features': 2000,...   \n",
       "\n",
       "                                                                 3  \\\n",
       "vectorizer                                                      cv   \n",
       "model                                                          knn   \n",
       "train_score                                                0.56639   \n",
       "test_score                                                0.596273   \n",
       "ROC_AUC score                                             0.589765   \n",
       "accuracy                                                  0.596273   \n",
       "f1_score                                                  0.703196   \n",
       "recall_score                                              0.939024   \n",
       "precision_score                                           0.562044   \n",
       "best_params      {'cv__max_df': 0.85, 'cv__max_features': 2000,...   \n",
       "\n",
       "                                                                 4  \\\n",
       "vectorizer                                                      tv   \n",
       "model                                                           lr   \n",
       "train_score                                               0.883817   \n",
       "test_score                                                0.710145   \n",
       "ROC_AUC score                                             0.709658   \n",
       "accuracy                                                  0.710145   \n",
       "f1_score                                                  0.721116   \n",
       "recall_score                                              0.735772   \n",
       "precision_score                                           0.707031   \n",
       "best_params      {'lr__C': 1, 'tv__max_df': 0.85, 'tv__max_feat...   \n",
       "\n",
       "                                                                 5  \\\n",
       "vectorizer                                                      tv   \n",
       "model                                                          mnb   \n",
       "train_score                                               0.881743   \n",
       "test_score                                                0.724638   \n",
       "ROC_AUC score                                               0.7235   \n",
       "accuracy                                                  0.724638   \n",
       "f1_score                                                  0.743738   \n",
       "recall_score                                              0.784553   \n",
       "precision_score                                            0.70696   \n",
       "best_params      {'mnb__alpha': 0.8, 'tv__max_df': 0.85, 'tv__m...   \n",
       "\n",
       "                                                                 6  \n",
       "vectorizer                                                      tv  \n",
       "model                                                          knn  \n",
       "train_score                                               0.696404  \n",
       "test_score                                                0.660455  \n",
       "ROC_AUC score                                             0.659411  \n",
       "accuracy                                                  0.660455  \n",
       "f1_score                                                  0.682171  \n",
       "recall_score                                              0.715447  \n",
       "precision_score                                           0.651852  \n",
       "best_params      {'knn__n_neighbors': 15, 'tv__max_df': 0.85, '...  "
      ]
     },
     "execution_count": 16,
     "metadata": {},
     "output_type": "execute_result"
    }
   ],
   "source": [
    "df_solns = pd.DataFrame(model_soln)\n",
    "df_solns.loc[['vectorizer','model','train_score','test_score','ROC_AUC score','accuracy','f1_score',\n",
    "              'recall_score','precision_score', 'best_params'],:]"
   ]
  },
  {
   "cell_type": "markdown",
   "metadata": {},
   "source": [
    "`True negatives`: Predict depression ; depression\\\n",
    "`False positives`: Predict suicide ; depression\\\n",
    "`False negatives`: Predict depression ; suicide\\\n",
    "`True positives`: Predict suicide ; suicide\\\n",
    "While we want ensure we have good prediction of suicide cases, we also need to be able to capture the `false negatives` cases where the predictions indicate depression but turn out to be suicidal.\n",
    "Thus, we will compare recall score and pick the best model.\\\n",
    "\\\n",
    "That being said, thou model 3 (CountVectorizer and KNN) return the highest recall score among all the models, the accuracy was rather low (although still better than baseline accuracy of 51%) which should be our 1st priority. Therefore, I won't be selecting this model.\n",
    "Instead, I will be aiming at model 5 (TfidVectorizer and Multinomial). It has the highest accuracy score (72%) yet having a relative high recall (rank 2nd at 78%)."
   ]
  },
  {
   "cell_type": "code",
   "execution_count": 17,
   "metadata": {},
   "outputs": [],
   "source": [
    "# creating bar graph to illustrate accuracy and recall score.\n",
    "\n",
    "transposed_df = df_solns.T # transposed dataframe\n",
    "transposed_df['index']=[1,2,3,4,5,6] # insert 1 more column named index\n",
    "\n",
    "# Using pd.melt to unpivot the DataFrame from wide format to long format\n",
    "barplot_df = pd.melt(transposed_df, id_vars=['index'], value_vars=['accuracy','recall_score'])"
   ]
  },
  {
   "cell_type": "code",
   "execution_count": 18,
   "metadata": {},
   "outputs": [
    {
     "data": {
      "image/png": "[encoded data removed]",
      "text/plain": [
       "<Figure size 576x360 with 1 Axes>"
      ]
     },
     "metadata": {
      "image/png": {
       "height": 331,
       "width": 497
      },
      "needs_background": "light"
     },
     "output_type": "display_data"
    }
   ],
   "source": [
    "# plot to barplot using seaborn\n",
    "plt.figure(figsize=(8,5))\n",
    "\n",
    "sns.barplot(x='index', y='value', hue='variable', data=barplot_df, palette=\"YlOrRd\")\n",
    "\n",
    "plt.ylabel('Score')\n",
    "plt.xlabel('classification')\n",
    "plt.title('accuracy vs recall score');"
   ]
  },
  {
   "cell_type": "markdown",
   "metadata": {},
   "source": [
    "# Evaluation"
   ]
  },
  {
   "cell_type": "code",
   "execution_count": 19,
   "metadata": {},
   "outputs": [
    {
     "name": "stdout",
     "output_type": "stream",
     "text": [
      "There are 2000 features in the model.\n",
      "Train score: 0.8817427385892116 \n",
      "Test score: 0.7246376811594203\n",
      "accuracy: 0.7246376811594203\n",
      "recall: 0.7845528455284553\n"
     ]
    }
   ],
   "source": [
    "# Final model selected: TfidVectorizer and Multinomial with the best_params\n",
    "\n",
    "tfvec = TfidfVectorizer(ngram_range=(1,1), max_df=0.85, min_df=2, max_features=2000)\n",
    "X_train_tfvec = tfvec.fit_transform(X_train)\n",
    "X_test_tfvec = tfvec.transform(X_test)\n",
    "\n",
    "print('There are {} features in the model.'.format(len(tfvec.get_feature_names())))\n",
    "\n",
    "mnb = MultinomialNB(alpha=0.8)\n",
    "model = mnb.fit(X_train_tfvec, y_train)\n",
    "train_tfvec_score = mnb.score(X_train_tfvec, y_train)\n",
    "test_tfvec_score = mnb.score(X_test_tfvec, y_test)\n",
    "predictions = model.predict(X_test_tfvec)\n",
    "accuracy = accuracy_score(y_test, predictions)\n",
    "recall = recall_score(y_test, predictions)\n",
    "\n",
    "print('Train score: {} \\nTest score: {}'.format(train_tfvec_score, test_tfvec_score))\n",
    "print('accuracy: {}'.format(accuracy))\n",
    "print('recall: {}'.format(recall))"
   ]
  },
  {
   "cell_type": "code",
   "execution_count": 20,
   "metadata": {},
   "outputs": [
    {
     "data": {
      "text/html": [
       "<div>\n",
       "<style scoped>\n",
       "    .dataframe tbody tr th:only-of-type {\n",
       "        vertical-align: middle;\n",
       "    }\n",
       "\n",
       "    .dataframe tbody tr th {\n",
       "        vertical-align: top;\n",
       "    }\n",
       "\n",
       "    .dataframe thead th {\n",
       "        text-align: right;\n",
       "    }\n",
       "</style>\n",
       "<table border=\"1\" class=\"dataframe\">\n",
       "  <thead>\n",
       "    <tr style=\"text-align: right;\">\n",
       "      <th></th>\n",
       "      <th>true_values</th>\n",
       "      <th>pred_probs</th>\n",
       "    </tr>\n",
       "  </thead>\n",
       "  <tbody>\n",
       "    <tr>\n",
       "      <th>333</th>\n",
       "      <td>1</td>\n",
       "      <td>1</td>\n",
       "    </tr>\n",
       "    <tr>\n",
       "      <th>918</th>\n",
       "      <td>1</td>\n",
       "      <td>1</td>\n",
       "    </tr>\n",
       "    <tr>\n",
       "      <th>447</th>\n",
       "      <td>1</td>\n",
       "      <td>1</td>\n",
       "    </tr>\n",
       "    <tr>\n",
       "      <th>217</th>\n",
       "      <td>0</td>\n",
       "      <td>0</td>\n",
       "    </tr>\n",
       "    <tr>\n",
       "      <th>647</th>\n",
       "      <td>0</td>\n",
       "      <td>0</td>\n",
       "    </tr>\n",
       "    <tr>\n",
       "      <th>...</th>\n",
       "      <td>...</td>\n",
       "      <td>...</td>\n",
       "    </tr>\n",
       "    <tr>\n",
       "      <th>164</th>\n",
       "      <td>1</td>\n",
       "      <td>0</td>\n",
       "    </tr>\n",
       "    <tr>\n",
       "      <th>689</th>\n",
       "      <td>1</td>\n",
       "      <td>1</td>\n",
       "    </tr>\n",
       "    <tr>\n",
       "      <th>668</th>\n",
       "      <td>1</td>\n",
       "      <td>1</td>\n",
       "    </tr>\n",
       "    <tr>\n",
       "      <th>600</th>\n",
       "      <td>1</td>\n",
       "      <td>1</td>\n",
       "    </tr>\n",
       "    <tr>\n",
       "      <th>913</th>\n",
       "      <td>1</td>\n",
       "      <td>1</td>\n",
       "    </tr>\n",
       "  </tbody>\n",
       "</table>\n",
       "<p>483 rows × 2 columns</p>\n",
       "</div>"
      ],
      "text/plain": [
       "     true_values  pred_probs\n",
       "333            1           1\n",
       "918            1           1\n",
       "447            1           1\n",
       "217            0           0\n",
       "647            0           0\n",
       "..           ...         ...\n",
       "164            1           0\n",
       "689            1           1\n",
       "668            1           1\n",
       "600            1           1\n",
       "913            1           1\n",
       "\n",
       "[483 rows x 2 columns]"
      ]
     },
     "execution_count": 20,
     "metadata": {},
     "output_type": "execute_result"
    }
   ],
   "source": [
    "# Let's create a dataframe called pred_df that contains:\n",
    "# 1. The list of true values of our test set.\n",
    "# 2. The list of predicted probabilities based on our model.\n",
    "\n",
    "pred_proba = [i[1] for i in np.round(mnb.predict_proba(X_test_tfvec)).astype(int)]\n",
    "\n",
    "pred_df = pd.DataFrame({'true_values': y_test,\n",
    "                        'pred_probs':pred_proba})\n",
    "pred_df"
   ]
  },
  {
   "cell_type": "code",
   "execution_count": 21,
   "metadata": {},
   "outputs": [],
   "source": [
    "# Creating 2 conditions for filtering\n",
    "\n",
    "cond1 = pred_df['pred_probs'] == 0\n",
    "cond2 = pred_df['true_values'] == 1"
   ]
  },
  {
   "cell_type": "code",
   "execution_count": 22,
   "metadata": {},
   "outputs": [
    {
     "name": "stdout",
     "output_type": "stream",
     "text": [
      "(53, 2)\n",
      "Percentage of False Negative over total y_test set: 11%\n"
     ]
    },
    {
     "data": {
      "text/html": [
       "<div>\n",
       "<style scoped>\n",
       "    .dataframe tbody tr th:only-of-type {\n",
       "        vertical-align: middle;\n",
       "    }\n",
       "\n",
       "    .dataframe tbody tr th {\n",
       "        vertical-align: top;\n",
       "    }\n",
       "\n",
       "    .dataframe thead th {\n",
       "        text-align: right;\n",
       "    }\n",
       "</style>\n",
       "<table border=\"1\" class=\"dataframe\">\n",
       "  <thead>\n",
       "    <tr style=\"text-align: right;\">\n",
       "      <th></th>\n",
       "      <th>true_values</th>\n",
       "      <th>pred_probs</th>\n",
       "    </tr>\n",
       "  </thead>\n",
       "  <tbody>\n",
       "    <tr>\n",
       "      <th>510</th>\n",
       "      <td>1</td>\n",
       "      <td>0</td>\n",
       "    </tr>\n",
       "    <tr>\n",
       "      <th>139</th>\n",
       "      <td>1</td>\n",
       "      <td>0</td>\n",
       "    </tr>\n",
       "    <tr>\n",
       "      <th>776</th>\n",
       "      <td>1</td>\n",
       "      <td>0</td>\n",
       "    </tr>\n",
       "    <tr>\n",
       "      <th>748</th>\n",
       "      <td>1</td>\n",
       "      <td>0</td>\n",
       "    </tr>\n",
       "    <tr>\n",
       "      <th>787</th>\n",
       "      <td>1</td>\n",
       "      <td>0</td>\n",
       "    </tr>\n",
       "  </tbody>\n",
       "</table>\n",
       "</div>"
      ],
      "text/plain": [
       "     true_values  pred_probs\n",
       "510            1           0\n",
       "139            1           0\n",
       "776            1           0\n",
       "748            1           0\n",
       "787            1           0"
      ]
     },
     "execution_count": 22,
     "metadata": {},
     "output_type": "execute_result"
    }
   ],
   "source": [
    "# Filtering the conditions to show only False Negatives results\n",
    "\n",
    "fn_df = pred_df[cond2 & cond1]\n",
    "\n",
    "print(fn_df.shape)\n",
    "print('Percentage of False Negative over total y_test set: {}%'.format(round(53/483*100)))\n",
    "fn_df.head()"
   ]
  },
  {
   "cell_type": "markdown",
   "metadata": {},
   "source": [
    "# Conclusion and Recommendation"
   ]
  },
  {
   "cell_type": "markdown",
   "metadata": {},
   "source": [
    "Conclusion:\n",
    "- The selected model that we use for prediction is a combination of TfidVectorizer and MultinomialNB.\n",
    "- The best parameters for TfidVectorizer are with 2000 features, max_df at 85%, min_df at 2 with ngram_range=(1,1).\n",
    "- Apply MultinomialNB model, it gives us a accuracy and recall score of 72% and 78% respectively.\n",
    "- And focusing on the False negative results, it represent an approx. 11% (53 out of 483).\n",
    "\n",
    "Given this result, not only we can predict individuals with suicidal thoughts, we are also able to pick up those who are probably in the depression phase but starts to exhibit suicidal thoughts. This allows immediate intervention to prevent any mishap plus sending support and help to the individual to overcome this period.\n",
    "\n",
    "Area of improvements:\n",
    "- Stopwords. Recalling we removed an empty post due to stopwords ('what should i do'). However, in this context, this whole text seems to suggest some signal sending from the individual. Thus, in my opinion, it is also critical to investigate further.\n",
    "- Lemmetization. During EDA, spotted words such as depressed and depression / suicide and suicidual were somehow not return to the basic form.\n",
    "- Overlapping words. The overlap words (naming a few examples: want, know, life, like, etc) seems to be borderline stop words. Words like want and know need to be pair with other words to make out some meaning. Maybe, we need to look into the n-gram paratemeters again."
   ]
  },
  {
   "cell_type": "code",
   "execution_count": null,
   "metadata": {},
   "outputs": [],
   "source": []
  }
 ],
 "metadata": {
  "kernelspec": {
   "display_name": "Python 3",
   "language": "python",
   "name": "python3"
  },
  "language_info": {
   "codemirror_mode": {
    "name": "ipython",
    "version": 3
   },
   "file_extension": ".py",
   "mimetype": "text/x-python",
   "name": "python",
   "nbconvert_exporter": "python",
   "pygments_lexer": "ipython3",
   "version": "3.7.4"
  }
 },
 "nbformat": 4,
 "nbformat_minor": 2
}
