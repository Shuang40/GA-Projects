{
 "cells": [
  {
   "cell_type": "markdown",
   "metadata": {},
   "source": [
    "# Project 4 : Predicting the West Nile Virus Prediction in Chicago\n",
    "\n",
    "---"
   ]
  },
  {
   "cell_type": "markdown",
   "metadata": {},
   "source": [
    "## Content\n",
    "\n",
    "- [Problem Statement and Context](#Problem-Statement-and-Context)\n",
    "- [EDA, Cleaning and Preprocessing](#EDA,-Cleaning-and-Preprocessing)\n",
    "- [Modelling](#Modelling)\n",
    "- [Consequences of Model Error](#Consequences-of-Model-Error)\n",
    "- [Cost-Benefit Analysis](#Cost-Benefit-Analysis)\n",
    "- [Recommendations](#Recommendations)\n",
    "- [Conclusion](#Conclusion)\n",
    "- [Next Steps](#Next-Steps)\n",
    "\n",
    "---"
   ]
  },
  {
   "cell_type": "markdown",
   "metadata": {},
   "source": [
    "## Problem Statement and Context\n",
    "\n",
    "- To predict the when and where the West Nile Virus will occur in mosquitos by taking into account a range of variables (e.g. location, temperature etc.), and using three classification models for the prediction:\n",
    "    - Linear regression, K-nearest neighbours, Random forest\n",
    "- We will use the Receiver Operating Characteristic (ROC) Area Under Curve (AUC) score to evaluate our models. The higher the score, the better. \n",
    "- A more accurate method of predicting outbreaks of West Nile virus in mosquitos will help the City of Chicago and Chicago Department of Public Health (CPHD) more efficiently and effectively allocate resources towards preventing transmission of this potentially deadly virus.\n",
    "---"
   ]
  },
  {
   "cell_type": "markdown",
   "metadata": {},
   "source": [
    "## EDA, Cleaning and Preprocessing"
   ]
  },
  {
   "cell_type": "markdown",
   "metadata": {},
   "source": [
    "We have performed exploratory data analysis, data cleaning, and preprocessing on the following datasets:\n",
    "### [Training and Test Set of the Main Dataset](01_train_test.ipynb)\n",
    "- There were no null values in both train and test data. \n",
    "- For both the test and train datasets, we:\n",
    "    - removed columns relating to address since the longitude and latitude are sufficient in pinpointing locations\n",
    "    - converted all column names to lowercase for easier reference\n",
    "    - converted ‘date’ to day of week, month, and year\n",
    "    - converted categorical variables to dummies (one-hot encoding) for processing by model later\n",
    "- The more mosquitos in the trap, the  likely WNV is present.\n",
    "![png](../images/wmvpresent.png)\n",
    "- WNV is only transmitted by Culex Pipiens and Culex Restuans.\n",
    "![png](../images/species.png)\n",
    "- Across all years in the train dataset, the number of mosquitoes peaked in June.\n",
    "- Across all years in the train dataset, 2007 had the highest number of mosquitos.\n",
    "![png](../images/month_year.png)\n",
    "- We see that the first occurrences of WNV appeared in the south of Chicago in July. By August, WNV can be found throughout Chicago. The occurrences of WNV began to subside in September, and was greatly reduced by October.\n",
    "    ![png](../images/2007.png)"
   ]
  },
  {
   "cell_type": "markdown",
   "metadata": {},
   "source": [
    "### [GIS data of spraying efforts in 2011 and 2013](02_spray.ipynb)\n",
    "- Aside from changing the Date type from object to datetime, we have also identify 2 latitudes that have duplicates which we subsequently removed.\n",
    "- Next, we realized that there are only 10 unique spray dates so, we decided to plot that out and take a look.\n",
    "![png](../images/spray_locations.png)\n",
    "- We see that the spray took place twice in 2011 and 8 times in 2013. \n",
    "- Looking at the visualization, no pattern was observed. And due to inconsistent reporting period, limited spray data and not available in test set, we decided that we will not incorporate this spray dataset into our modeling."
   ]
  },
  {
   "cell_type": "markdown",
   "metadata": {},
   "source": [
    "### [Weather Data from 2007 to 2014](03_weather.ipynb)\n",
    "- Cleaning\n",
    "    - Changing `Date` data type from object to datetime.\n",
    "    - Add dates, breakdown by Year, Month, Week and Day\n",
    "    - Fill values in column `PrecipTotal` labelled `T` and `M` with zero. \n",
    "- Feature Engineering\n",
    "    - Add  daily temperature range. `Tmax` minus `Tmin`\n",
    "    - Add relative humidity\n",
    "    - Add number of days since it last rained\n",
    "    - Introduce 14 days lagged weather feature \n",
    "        - Based on mosquito's lifecycle, a mosquito takes about 7 to 14 days to be full grown\n",
    "---"
   ]
  },
  {
   "cell_type": "markdown",
   "metadata": {},
   "source": [
    "## [Modelling](04_modelling.ipynb)"
   ]
  },
  {
   "cell_type": "markdown",
   "metadata": {},
   "source": [
    "### Baseline\n",
    "\n",
    "We can evaluate the model based on the following metrics:\n",
    "- Accuracy = (TP + TN) / (TP + TN + FP + FN)\n",
    "- Sensitivity = TP / (TP + FN)\n",
    "- Specificity = TN / (TN + FP)\n",
    "- Precision = TP / (TP + FP)\n",
    "- AUC ROC\n",
    "\n",
    "Accuracy should not be used in this imbalanced dataset, where only 5% of the observations actually has West Nile virus. Hence, a naive guess will most likely be 95% accurate, but the 5% wrong guess will be devastating.\n",
    "\n",
    "AUC ROC is superior because it will give us a score across all False Positive rates that we choose and therefore it is more robust (rather than a specific False Positive rate score e.g. for a high recall).\n",
    "\n",
    "We should achieve an AUC ROC score of more than the baseline of 0.5,  where the baseline occurs when the predictor makes random guesses which is half correct, half wrong."
   ]
  },
  {
   "cell_type": "markdown",
   "metadata": {},
   "source": [
    "### Consequences of Model Error\n",
    "\n",
    "- False Positive - where we claimed WNV was present when it really wasn't \n",
    "- False Negative - where we claimed WNV was not present, when in reality it was present. \n",
    "\n",
    "- A False Negative has greater costs than a False Positive, since people would be at higher risk of contracting the virus without any mitigating factors. \n",
    "\n",
    "- On the other hand, the costs of a False Positive appear less severe e.g. are that people may get more annoyed, stay in at night during the summer as opposed to going out, or perhaps use more bug spray than usual. It may also encourage city authorities to spray more than they normally would."
   ]
  },
  {
   "cell_type": "markdown",
   "metadata": {},
   "source": [
    "### Evaluation\n",
    "\n",
    "- The following classifiers are used:\n",
    "    - Logistic Regression\n",
    "    - K-Nearest Neighbors\n",
    "    - Random Forest\n",
    "- Certain hyperparameters for all models are optimized using RandomizedSearchCV, Pipeline, and StandardScaler\n",
    "\n",
    "||Logistic Regression|K-Nearest Neighbors|Random Forest|\n",
    "|---|---|---|---|\n",
    "|Accuracy|0.69|0.93|0.66|\n",
    "|Recall|0.75|0.07|0.87|\n",
    "|Precision|0.12|0.18|0.12|\n",
    "|ROC AUC|0.78|0.71|0.83|\n",
    "\n",
    "- The sensitivity (recall) of the models to detect WNV could range from detecting 7% to detecting 87%.\n",
    "- For imbalanced dataset, LogisticRegression and RandomForest are likely to predict better, given they have the option to introduce weights to each class, i.e. a heavier weight to be given to data where the virus is present since it’s only about 5% of the whole dataset.\n",
    "- K-Nearest Neighbors doesn’t have the option, hence its ROC AUC is lowest out of the 3 @ 0.71.\n",
    "- In this case, RandomForest is the best model @ 0.83 and hence we will use this model for further analysis and interpretation."
   ]
  },
  {
   "cell_type": "markdown",
   "metadata": {},
   "source": [
    "![png](../images/roc.png)\n",
    "- Middle Chart: Precision means the percentage of your results which are relevant. On the other hand, recall refers to the percentage of total relevant results correctly classified by your algorithm.\n",
    "- AUC under the ROC curve is ~83% so the model is robust enough to allow flexible choice of thresholds ( choosing the most fitting recall vs precision rates)\n",
    "- The model is based on the assumption that the number of mosquitos is not a valid info that could be collected and used for prediction. The model’s performance would change if we include the NumMosquitos variable. At this scenario we can use all other features to predict the number of mosquitos, and then use that prediction as a new feature in a new classification model, to make a new prediction for the WNV occurrences. We can expect that the performance of this model would be higher given an additional feature which is highly correlated to whether virus is present.\n",
    "- The data could be enriched further with publicly available data, e.g. Implementing data on locations of exposed water reservoirs, lakes and other bodies of fresh water which might be correlated to increased mosquito population."
   ]
  },
  {
   "cell_type": "markdown",
   "metadata": {},
   "source": [
    "### Feature Importance\n",
    "- Out of so many features, let’s choose the ones with the strongest effect on West Nile Virus response\n",
    "- We chose a certain threshold to display (to avoid showing all features)\n",
    "![png](../images/feature_importances.png)\n",
    "- Whether the specie is `CULEX_PIPIENS` or `CULEX RESTUANS` or not is important, as well as the week / month (especially June) in the year (e.g. peak of summer) is also, unsurprisingly important\n",
    "- Most important features are engineered weather features\n",
    "- From weather data, temperature seems most important (probably affect breeding of mosquitoes)\n",
    "- Wind speed possibly played a part (`ResultSpeed_lag_14`)\n",
    "- Finally, some years have more occurrences then other years\n",
    "\n",
    "\n",
    "---"
   ]
  },
  {
   "cell_type": "markdown",
   "metadata": {},
   "source": [
    "## Cost-Benefit Analysis\n",
    "\n",
    "We analysed two separate studies:\n",
    "- “Initial and Long-Term Costs of Patients Hospitalized with West Nile Virus Disease”: This  study showed that WNV costs the government about \\\\$21,000 per person. \n",
    "- “Economic cost analysis of West Nile virus outbreak, Sacramento County, California, USA, 2005”: This study showed that in 2015, WNV in Sacramento County cost approximately \\\\$2.28 million for medical treatment and patients' productivity loss, whereas vector control cost approximately \\\\$701,790. In addition, only 15 cases of West Nile neuroinvasive disease would need to be prevented to make the emergency spraying cost-effective.\n",
    "- Cost of WNV in 2002. There were more than 800 cases of WNV in Chicago during the first emergence WNV in 2002. This would have cost the city approximately \\\\$17 million (800*\\\\$21,000). \n",
    "- Cost of vector control against WNV. We did not have data on the cost of spraying in Chicago. Using a simple assumption that ~\\\\$700,000 worth of vector control was used by Sacremento County for its full land area of 2,500 km<sup>2</sup>, we can make a rough estimation that it would cost Chicago ~$7 million for its full land area of 28,120 km<sup>2</sup>.\n",
    "\n",
    "Sources: \n",
    "- https://www.ncbi.nlm.nih.gov/pubmed/20202424\n",
    "- https://www.ncbi.nlm.nih.gov/pmc/articles/PMC3945683/\n",
    "- https://www.dph.illinois.gov/topics-services/diseases-and-conditions/west-nile-virus/vector-control\n",
    "- https://en.wikipedia.org/wiki/Sacramento_County,_California\n",
    "- https://en.wikipedia.org/wiki/Chicago_metropolitan_area\n",
    "\n",
    "\n",
    "---"
   ]
  },
  {
   "cell_type": "markdown",
   "metadata": {},
   "source": [
    "## Recommendations\n",
    "**Strategically fogging**\n",
    "- Although we couldn’t substantiate the impact of spraying due to the lack of data, we will still recommend the idea of spraying/fogging\n",
    "- Some considerations:\n",
    "    - Inhabitants population density area (focus on where denser population instead)\n",
    "    - Prioritize by infested locations\n",
    "    - Fogging to be done before mosquitoes peak season e.g. Jun to Aug\n",
    "\n",
    "**Control tall grass and shrubbery**\n",
    "- Mosquitoes like to rest in tall grass, plants and shrubs. When we focus on denser population area, for the area where lesser population resides, wedding/grass cutting effort need to be put in place to ensure grass are cut to a length of 5 inches or less to prevent mosquitoes from congregating there.\n",
    "- Also, to work with parks department to explore introducing mosquito-repelling plants such as citronella Grass / Basil / Lemon Balm\n",
    "\n",
    "**Eliminate / treat standing water**\n",
    "- We propose to invest efforts in prevention, starting from increasing awareness of the general population to not leave exposed untreated water (e.g. ponds and pools in their yard). If we cannot get rid of the water, consider treating it by introducing mosquito dunks and bits (small biscuit-like object that dissolves over time and releases a chemical that helps control mosquito larvae).\n",
    "\n",
    "**Mosquito sterilization**\n",
    "- Additionally, since one specie (Culex Pipiens, Culex Pipiens/Restuans) stands out as a carrier with higher rates of WNV, We suggest to increase efforts in preventing the proliferation of this specie in particular. This could be done with more specific and environmentally friendly measures (e.g. “targeted biological mosquito control”) which would make the process of lowering occurrences more efficient and less costly\n",
    "\n",
    "https://control-mosquitoes.com/5-ways-to-control-mosquitoes-in-your-yard/\n",
    "\n",
    "---"
   ]
  },
  {
   "cell_type": "markdown",
   "metadata": {},
   "source": [
    "## Next Steps\n",
    "\n",
    "- Our ROC AUC score was 0.83; however, our Kaggle score was 0.6.\n",
    "- The scores here are ROC AUC scores. These numbers establish how well a model deals with, as a threshold for predicting the presence of West Nile is increased, the trade off between True and False positives. Namely as the threshold increases, there are fewer predicted positives and the ROC AUC score is a numeric measure of this trade off. A score of 0.5  indicates that the model is doing no better than truly guessing.\n",
    "- The huge disparity between our local scores and the Kaggle scores indicate that our models are almost entirely modeling noise. It is our recommendation that the project continue in one or more of the following ways:\n",
    "- Restructure the data\n",
    "- Since our local score are so different than the Kaggle scores, we are likely just modeling the noise present in the data. More work should be done to address this.\n",
    "- Get more, cleaner data\n",
    "- There is a fair amount of missing data in the weather information, so it would probably be worthwhile to track down the true missing values, if they can be found.\n",
    "\n",
    "---"
   ]
  }
 ],
 "metadata": {
  "kernelspec": {
   "display_name": "Python 3",
   "language": "python",
   "name": "python3"
  },
  "language_info": {
   "codemirror_mode": {
    "name": "ipython",
    "version": 3
   },
   "file_extension": ".py",
   "mimetype": "text/x-python",
   "name": "python",
   "nbconvert_exporter": "python",
   "pygments_lexer": "ipython3",
   "version": "3.7.4"
  }
 },
 "nbformat": 4,
 "nbformat_minor": 2
}
